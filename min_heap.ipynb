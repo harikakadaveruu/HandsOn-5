{
 "cells": [
  {
   "cell_type": "code",
   "execution_count": 9,
   "id": "1b10619b",
   "metadata": {},
   "outputs": [
    {
     "name": "stdout",
     "output_type": "stream",
     "text": [
      "Initial heap: [1, 2, 3, 4, 7, 5, 6, 9, 8]\n",
      "Root node-> 1\n",
      "Pop-> 1\n",
      "Heap after pop: [2, 4, 3, 8, 7, 5, 6, 9]\n",
      "Initial heap: [0.7, 1.3, 2.9, 8.8, 6.4, 5.2]\n",
      "Root node-> 0.7\n",
      "Pop-> 0.7\n",
      "Heap after pop: [1.3, 5.2, 2.9, 8.8, 6.4]\n"
     ]
    }
   ],
   "source": [
    "class MinHeap:\n",
    "    def __init__(self):\n",
    "        self.heap=[]\n",
    "    def _parent(self,ind):\n",
    "        return (ind-1) >> 1\n",
    "    def _left(self, ind):\n",
    "        return (ind << 1)+1\n",
    "    def _right(self,ind):\n",
    "        return (ind << 1)+2\n",
    "    def build_min_heap(self,arr):\n",
    "        self.heap=arr[:]\n",
    "        for i in range(self._parent(len(self.heap)-1),-1,-1):\n",
    "            self.heapify(i)\n",
    "    def heapify(self,ind):\n",
    "        left=self._left(ind)\n",
    "        right=self._right(ind)\n",
    "        min_ind=ind\n",
    "        if left < len(self.heap) and self.heap[left] < self.heap[min_ind]:\n",
    "            min_ind=left\n",
    "        if right < len(self.heap) and self.heap[right] < self.heap[min_ind]:\n",
    "            min_ind=right\n",
    "        if min_ind != ind:\n",
    "            self.heap[ind],self.heap[min_ind]=self.heap[min_ind],self.heap[ind]\n",
    "            self.heapify(min_ind)\n",
    "    def pop(self):\n",
    "        if len(self.heap) == 0:\n",
    "            raise IndexError(\"Pop from an empty heap\")\n",
    "        root=self.heap[0]\n",
    "        self.heap[0]=self.heap[len(self.heap)-1]\n",
    "        self.heap.pop()\n",
    "        self.heapify(0)\n",
    "        return root\n",
    "    def get_root(self):\n",
    "        if self.heap:\n",
    "            return self.heap[0]\n",
    "        \n",
    "#integers as example\n",
    "heap=MinHeap()\n",
    "arr=[4,7,3,8,1,5,6,9,2]\n",
    "heap.build_min_heap(arr)\n",
    "print(\"Initial heap:\",heap.heap)\n",
    "print(\"Root node->\",heap.get_root())\n",
    "print(\"Pop->\",heap.pop())\n",
    "print(\"Heap after pop:\",heap.heap)\n",
    "\n",
    "#floats as example\n",
    "heap1=MinHeap()\n",
    "arr1=[5.2,8.8,2.9,1.3,6.4,0.7]\n",
    "heap1.build_min_heap(arr1)\n",
    "print(\"Initial heap:\",heap1.heap)\n",
    "print(\"Root node->\",heap1.get_root())\n",
    "print(\"Pop->\",heap1.pop())\n",
    "print(\"Heap after pop:\",heap1.heap)"
   ]
  },
  {
   "cell_type": "code",
   "execution_count": null,
   "id": "c9ba7f0a",
   "metadata": {},
   "outputs": [],
   "source": []
  }
 ],
 "metadata": {
  "kernelspec": {
   "display_name": "Python 3 (ipykernel)",
   "language": "python",
   "name": "python3"
  },
  "language_info": {
   "codemirror_mode": {
    "name": "ipython",
    "version": 3
   },
   "file_extension": ".py",
   "mimetype": "text/x-python",
   "name": "python",
   "nbconvert_exporter": "python",
   "pygments_lexer": "ipython3",
   "version": "3.11.5"
  }
 },
 "nbformat": 4,
 "nbformat_minor": 5
}
